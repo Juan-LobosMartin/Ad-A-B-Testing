{
 "cells": [
  {
   "cell_type": "markdown",
   "id": "6434727a-593b-43f0-8537-72fdd786af7f",
   "metadata": {},
   "source": [
    "## Analysis of the response to a new banner\n",
    "- People that answer 'yes'\n",
    "- People that answer 'No'\n",
    "- People without an answer \n",
    "\n",
    "There are defects in the explanation of the experiment:\n",
    "- It is not described where the banner is placed (Web page, Instagram, Facebook, ?)\n",
    "- the banner seems an interactive one with two actions, 'yes' or 'no'\n",
    "- There are two banners, a dummy one (Image?) and an interactive one (animation?)\n",
    "\n",
    "(*) probably the second by the column description."
   ]
  },
  {
   "cell_type": "code",
   "execution_count": 1,
   "id": "31fbcb5d-0d41-4b13-b3ef-55f9764c81ee",
   "metadata": {},
   "outputs": [],
   "source": [
    "# Import the basic libraries\n",
    "import pandas as pd\n",
    "import numpy as np\n",
    "# Import the Graph libraries\n",
    "import seaborn as sns\n",
    "import matplotlib.pyplot as plt\n",
    "from matplotlib.lines import Line2D\n",
    "%matplotlib inline\n",
    "# Import the Stat libraries\n",
    "import scipy.stats as stats\n",
    "import statsmodels.api as sm\n",
    "from statsmodels.stats.proportion import proportions_ztest\n",
    "from scipy.stats import chi2_contingency"
   ]
  },
  {
   "cell_type": "code",
   "execution_count": 2,
   "id": "ba8a99c7-ef80-4007-b8c1-94aae5dee772",
   "metadata": {},
   "outputs": [],
   "source": [
    "Ad_df = pd.read_csv('Data/AdSmartABdata.csv')"
   ]
  },
  {
   "cell_type": "markdown",
   "id": "67b1deee-9b50-49d6-b665-4cb2d4aafa76",
   "metadata": {},
   "source": [
    "## Columns Description\n",
    "\n",
    "* __auction_id:__ the unique id of the online user who has been presented the BIO. In standard terminologies, this is called an impression id. The user may see the BIO questionnaire but choose not to respond. In that case, both the yes and no columns are zero.\n",
    "* __experiment:__ which group the user belongs to - control or exposed.\n",
    "    * __control:__ users who have been shown a dummy ad\n",
    "    * __exposed:__ users who have been shown a creative, an online interactive ad, with the SmartAd brand.\n",
    "* __date:__ the date in YYYY-MM-DD format\n",
    "* __hour:__ the hour of the day in HH format.\n",
    "* __device_make:__ the name of the type of device the user has e.g. Samsung\n",
    "* __platform_os:__ the id of the OS the user has.\n",
    "* __browser:__ the name of the browser the user uses to see the BIO questionnaire.\n",
    "* __yes:__ 1 if the user chooses the “Yes” radio button for the BIO questionnaire.\n",
    "* __no:__ 1 if the user chooses the “No” radio button for the BIO questionnaire."
   ]
  },
  {
   "cell_type": "code",
   "execution_count": 3,
   "id": "fbdd0e73-3a21-408e-9763-16a418453f25",
   "metadata": {},
   "outputs": [
    {
     "data": {
      "text/html": [
       "<div>\n",
       "<style scoped>\n",
       "    .dataframe tbody tr th:only-of-type {\n",
       "        vertical-align: middle;\n",
       "    }\n",
       "\n",
       "    .dataframe tbody tr th {\n",
       "        vertical-align: top;\n",
       "    }\n",
       "\n",
       "    .dataframe thead th {\n",
       "        text-align: right;\n",
       "    }\n",
       "</style>\n",
       "<table border=\"1\" class=\"dataframe\">\n",
       "  <thead>\n",
       "    <tr style=\"text-align: right;\">\n",
       "      <th></th>\n",
       "      <th>auction_id</th>\n",
       "      <th>experiment</th>\n",
       "      <th>date</th>\n",
       "      <th>hour</th>\n",
       "      <th>device_make</th>\n",
       "      <th>platform_os</th>\n",
       "      <th>browser</th>\n",
       "      <th>yes</th>\n",
       "      <th>no</th>\n",
       "    </tr>\n",
       "  </thead>\n",
       "  <tbody>\n",
       "    <tr>\n",
       "      <th>0</th>\n",
       "      <td>0008ef63-77a7-448b-bd1e-075f42c55e39</td>\n",
       "      <td>exposed</td>\n",
       "      <td>2020-07-10</td>\n",
       "      <td>8</td>\n",
       "      <td>Generic Smartphone</td>\n",
       "      <td>6</td>\n",
       "      <td>Chrome Mobile</td>\n",
       "      <td>0</td>\n",
       "      <td>0</td>\n",
       "    </tr>\n",
       "    <tr>\n",
       "      <th>1</th>\n",
       "      <td>000eabc5-17ce-4137-8efe-44734d914446</td>\n",
       "      <td>exposed</td>\n",
       "      <td>2020-07-07</td>\n",
       "      <td>10</td>\n",
       "      <td>Generic Smartphone</td>\n",
       "      <td>6</td>\n",
       "      <td>Chrome Mobile</td>\n",
       "      <td>0</td>\n",
       "      <td>0</td>\n",
       "    </tr>\n",
       "    <tr>\n",
       "      <th>2</th>\n",
       "      <td>0016d14a-ae18-4a02-a204-6ba53b52f2ed</td>\n",
       "      <td>exposed</td>\n",
       "      <td>2020-07-05</td>\n",
       "      <td>2</td>\n",
       "      <td>E5823</td>\n",
       "      <td>6</td>\n",
       "      <td>Chrome Mobile WebView</td>\n",
       "      <td>0</td>\n",
       "      <td>1</td>\n",
       "    </tr>\n",
       "    <tr>\n",
       "      <th>3</th>\n",
       "      <td>00187412-2932-4542-a8ef-3633901c98d9</td>\n",
       "      <td>control</td>\n",
       "      <td>2020-07-03</td>\n",
       "      <td>15</td>\n",
       "      <td>Samsung SM-A705FN</td>\n",
       "      <td>6</td>\n",
       "      <td>Facebook</td>\n",
       "      <td>0</td>\n",
       "      <td>0</td>\n",
       "    </tr>\n",
       "    <tr>\n",
       "      <th>4</th>\n",
       "      <td>001a7785-d3fe-4e11-a344-c8735acacc2c</td>\n",
       "      <td>control</td>\n",
       "      <td>2020-07-03</td>\n",
       "      <td>15</td>\n",
       "      <td>Generic Smartphone</td>\n",
       "      <td>6</td>\n",
       "      <td>Chrome Mobile</td>\n",
       "      <td>0</td>\n",
       "      <td>0</td>\n",
       "    </tr>\n",
       "    <tr>\n",
       "      <th>...</th>\n",
       "      <td>...</td>\n",
       "      <td>...</td>\n",
       "      <td>...</td>\n",
       "      <td>...</td>\n",
       "      <td>...</td>\n",
       "      <td>...</td>\n",
       "      <td>...</td>\n",
       "      <td>...</td>\n",
       "      <td>...</td>\n",
       "    </tr>\n",
       "    <tr>\n",
       "      <th>8072</th>\n",
       "      <td>ffea24ec-cec1-43fb-b1d1-8f93828c2be2</td>\n",
       "      <td>exposed</td>\n",
       "      <td>2020-07-05</td>\n",
       "      <td>7</td>\n",
       "      <td>Generic Smartphone</td>\n",
       "      <td>6</td>\n",
       "      <td>Chrome Mobile</td>\n",
       "      <td>0</td>\n",
       "      <td>0</td>\n",
       "    </tr>\n",
       "    <tr>\n",
       "      <th>8073</th>\n",
       "      <td>ffea3210-2c3e-426f-a77d-0aa72e73b20f</td>\n",
       "      <td>control</td>\n",
       "      <td>2020-07-03</td>\n",
       "      <td>15</td>\n",
       "      <td>Generic Smartphone</td>\n",
       "      <td>6</td>\n",
       "      <td>Chrome Mobile</td>\n",
       "      <td>0</td>\n",
       "      <td>0</td>\n",
       "    </tr>\n",
       "    <tr>\n",
       "      <th>8074</th>\n",
       "      <td>ffeaa0f1-1d72-4ba9-afb4-314b3b00a7c7</td>\n",
       "      <td>control</td>\n",
       "      <td>2020-07-04</td>\n",
       "      <td>9</td>\n",
       "      <td>Generic Smartphone</td>\n",
       "      <td>6</td>\n",
       "      <td>Chrome Mobile</td>\n",
       "      <td>0</td>\n",
       "      <td>0</td>\n",
       "    </tr>\n",
       "    <tr>\n",
       "      <th>8075</th>\n",
       "      <td>ffeeed62-3f7c-4a6e-8ba7-95d303d40969</td>\n",
       "      <td>exposed</td>\n",
       "      <td>2020-07-05</td>\n",
       "      <td>15</td>\n",
       "      <td>Samsung SM-A515F</td>\n",
       "      <td>6</td>\n",
       "      <td>Samsung Internet</td>\n",
       "      <td>0</td>\n",
       "      <td>0</td>\n",
       "    </tr>\n",
       "    <tr>\n",
       "      <th>8076</th>\n",
       "      <td>fffbb9ff-568a-41a5-a0c3-6866592f80d8</td>\n",
       "      <td>control</td>\n",
       "      <td>2020-07-10</td>\n",
       "      <td>14</td>\n",
       "      <td>Samsung SM-G960F</td>\n",
       "      <td>6</td>\n",
       "      <td>Facebook</td>\n",
       "      <td>0</td>\n",
       "      <td>0</td>\n",
       "    </tr>\n",
       "  </tbody>\n",
       "</table>\n",
       "<p>8077 rows × 9 columns</p>\n",
       "</div>"
      ],
      "text/plain": [
       "                                auction_id experiment        date  hour  \\\n",
       "0     0008ef63-77a7-448b-bd1e-075f42c55e39    exposed  2020-07-10     8   \n",
       "1     000eabc5-17ce-4137-8efe-44734d914446    exposed  2020-07-07    10   \n",
       "2     0016d14a-ae18-4a02-a204-6ba53b52f2ed    exposed  2020-07-05     2   \n",
       "3     00187412-2932-4542-a8ef-3633901c98d9    control  2020-07-03    15   \n",
       "4     001a7785-d3fe-4e11-a344-c8735acacc2c    control  2020-07-03    15   \n",
       "...                                    ...        ...         ...   ...   \n",
       "8072  ffea24ec-cec1-43fb-b1d1-8f93828c2be2    exposed  2020-07-05     7   \n",
       "8073  ffea3210-2c3e-426f-a77d-0aa72e73b20f    control  2020-07-03    15   \n",
       "8074  ffeaa0f1-1d72-4ba9-afb4-314b3b00a7c7    control  2020-07-04     9   \n",
       "8075  ffeeed62-3f7c-4a6e-8ba7-95d303d40969    exposed  2020-07-05    15   \n",
       "8076  fffbb9ff-568a-41a5-a0c3-6866592f80d8    control  2020-07-10    14   \n",
       "\n",
       "             device_make  platform_os                browser  yes  no  \n",
       "0     Generic Smartphone            6          Chrome Mobile    0   0  \n",
       "1     Generic Smartphone            6          Chrome Mobile    0   0  \n",
       "2                  E5823            6  Chrome Mobile WebView    0   1  \n",
       "3      Samsung SM-A705FN            6               Facebook    0   0  \n",
       "4     Generic Smartphone            6          Chrome Mobile    0   0  \n",
       "...                  ...          ...                    ...  ...  ..  \n",
       "8072  Generic Smartphone            6          Chrome Mobile    0   0  \n",
       "8073  Generic Smartphone            6          Chrome Mobile    0   0  \n",
       "8074  Generic Smartphone            6          Chrome Mobile    0   0  \n",
       "8075    Samsung SM-A515F            6       Samsung Internet    0   0  \n",
       "8076    Samsung SM-G960F            6               Facebook    0   0  \n",
       "\n",
       "[8077 rows x 9 columns]"
      ]
     },
     "execution_count": 3,
     "metadata": {},
     "output_type": "execute_result"
    }
   ],
   "source": [
    "Ad_df"
   ]
  },
  {
   "cell_type": "code",
   "execution_count": 4,
   "id": "18d868c7-c9c6-4457-b1fb-f64e07831f0a",
   "metadata": {},
   "outputs": [
    {
     "name": "stdout",
     "output_type": "stream",
     "text": [
      "<class 'pandas.core.frame.DataFrame'>\n",
      "RangeIndex: 8077 entries, 0 to 8076\n",
      "Data columns (total 9 columns):\n",
      " #   Column       Non-Null Count  Dtype \n",
      "---  ------       --------------  ----- \n",
      " 0   auction_id   8077 non-null   object\n",
      " 1   experiment   8077 non-null   object\n",
      " 2   date         8077 non-null   object\n",
      " 3   hour         8077 non-null   int64 \n",
      " 4   device_make  8077 non-null   object\n",
      " 5   platform_os  8077 non-null   int64 \n",
      " 6   browser      8077 non-null   object\n",
      " 7   yes          8077 non-null   int64 \n",
      " 8   no           8077 non-null   int64 \n",
      "dtypes: int64(4), object(5)\n",
      "memory usage: 568.0+ KB\n"
     ]
    }
   ],
   "source": [
    "Ad_df.info()"
   ]
  },
  {
   "cell_type": "code",
   "execution_count": 5,
   "id": "5f8f89bf-086e-48b6-ab96-f233d2bbb7dd",
   "metadata": {},
   "outputs": [
    {
     "data": {
      "text/plain": [
       "auction_id     0\n",
       "experiment     0\n",
       "date           0\n",
       "hour           0\n",
       "device_make    0\n",
       "platform_os    0\n",
       "browser        0\n",
       "yes            0\n",
       "no             0\n",
       "dtype: int64"
      ]
     },
     "execution_count": 5,
     "metadata": {},
     "output_type": "execute_result"
    }
   ],
   "source": [
    "Ad_df.isnull().sum()"
   ]
  },
  {
   "cell_type": "code",
   "execution_count": 6,
   "id": "7986d07c-befb-4863-ae46-5c452dfa436b",
   "metadata": {},
   "outputs": [
    {
     "data": {
      "text/plain": [
       "yes\n",
       "0    7505\n",
       "1     572\n",
       "Name: count, dtype: int64"
      ]
     },
     "execution_count": 6,
     "metadata": {},
     "output_type": "execute_result"
    }
   ],
   "source": [
    "Ad_df['yes'].value_counts()"
   ]
  },
  {
   "cell_type": "code",
   "execution_count": 7,
   "id": "f47509ee-429e-4933-909f-0cc401164630",
   "metadata": {},
   "outputs": [
    {
     "data": {
      "text/plain": [
       "no\n",
       "0    7406\n",
       "1     671\n",
       "Name: count, dtype: int64"
      ]
     },
     "execution_count": 7,
     "metadata": {},
     "output_type": "execute_result"
    }
   ],
   "source": [
    "Ad_df['no'].value_counts()"
   ]
  },
  {
   "cell_type": "code",
   "execution_count": 8,
   "id": "3a3d4219-b699-43c5-bf1f-ea733f1c17f3",
   "metadata": {},
   "outputs": [
    {
     "data": {
      "text/plain": [
       "np.int64(0)"
      ]
     },
     "execution_count": 8,
     "metadata": {},
     "output_type": "execute_result"
    }
   ],
   "source": [
    "Ad_df.duplicated().sum()"
   ]
  },
  {
   "cell_type": "code",
   "execution_count": 28,
   "id": "90ba955d-330d-4160-88db-88edf8e0f10c",
   "metadata": {},
   "outputs": [
    {
     "data": {
      "text/plain": [
       "device_make\n",
       "Generic Smartphone     4743\n",
       "iPhone                  433\n",
       "Samsung SM-G960F        203\n",
       "Samsung SM-G973F        154\n",
       "Samsung SM-G950F        148\n",
       "                       ... \n",
       "D5803                     1\n",
       "Samsung SM-G6100          1\n",
       "HTC M10h                  1\n",
       "Samsung SM-G925I          1\n",
       "XiaoMi Redmi Note 5       1\n",
       "Name: count, Length: 269, dtype: int64"
      ]
     },
     "execution_count": 28,
     "metadata": {},
     "output_type": "execute_result"
    }
   ],
   "source": [
    "counts = Ad_df['device_make'].value_counts()\n",
    "counts"
   ]
  },
  {
   "cell_type": "code",
   "execution_count": 10,
   "id": "58cc8502-b7e1-4302-8ee5-3a14532c0180",
   "metadata": {},
   "outputs": [
    {
     "data": {
      "text/plain": [
       "platform_os\n",
       "6    7648\n",
       "5     428\n",
       "7       1\n",
       "Name: count, dtype: int64"
      ]
     },
     "execution_count": 10,
     "metadata": {},
     "output_type": "execute_result"
    }
   ],
   "source": [
    "Ad_df['platform_os'].value_counts()"
   ]
  },
  {
   "cell_type": "code",
   "execution_count": 11,
   "id": "b967861b-f7b5-41f6-abeb-81110ceef38c",
   "metadata": {},
   "outputs": [
    {
     "data": {
      "text/plain": [
       "browser\n",
       "Chrome Mobile                 4554\n",
       "Chrome Mobile WebView         1489\n",
       "Samsung Internet               824\n",
       "Facebook                       764\n",
       "Mobile Safari                  337\n",
       "Chrome Mobile iOS               51\n",
       "Mobile Safari UI/WKWebView      44\n",
       "Chrome                           3\n",
       "Pinterest                        3\n",
       "Opera Mobile                     3\n",
       "Opera Mini                       1\n",
       "Edge Mobile                      1\n",
       "Android                          1\n",
       "Firefox Mobile                   1\n",
       "Puffin                           1\n",
       "Name: count, dtype: int64"
      ]
     },
     "execution_count": 11,
     "metadata": {},
     "output_type": "execute_result"
    }
   ],
   "source": [
    "Ad_df['browser'].value_counts()"
   ]
  },
  {
   "cell_type": "markdown",
   "id": "a57ab102-4125-412c-a8f2-05bb4b86cec7",
   "metadata": {},
   "source": [
    "### Data exploration\n",
    "- There are no NaN in the data.\n",
    "- The device's OS doesn't show any information.\n",
    "- The banner was presented to people using their smartphone by the browsers used.\n",
    "- The low number of iPhones indicates a global show of the banners (In Europe and the USA, there is a higher percentage of that brand)\n",
    "- Fault in the definition of the Hour, if it's of the server or the terminal. \n",
    "\n",
    "The data frame could be used directly for the study."
   ]
  },
  {
   "cell_type": "code",
   "execution_count": 12,
   "id": "772d7219-e12a-4716-ada5-b12953934da8",
   "metadata": {},
   "outputs": [
    {
     "data": {
      "text/plain": [
       "auction_id\n",
       "0008ef63-77a7-448b-bd1e-075f42c55e39    1\n",
       "aa14b324-5c46-4b3a-8e75-18d78968495b    1\n",
       "aa84454c-a749-4c98-bf9f-1f99c04416af    1\n",
       "aa6ecb40-6a48-4c06-a611-4c9aa9023ea8    1\n",
       "aa6c6cda-e498-4e8f-b886-1d969bd376ea    1\n",
       "                                       ..\n",
       "56c87344-e876-41a3-9011-feb8f7e58cd5    1\n",
       "56bf959a-642f-4814-bf08-55d634554d5a    1\n",
       "56bd072c-a748-4355-b2d1-258d82d401b0    1\n",
       "56bb25c7-f778-4690-90be-034b1982fe03    1\n",
       "fffbb9ff-568a-41a5-a0c3-6866592f80d8    1\n",
       "Name: count, Length: 8077, dtype: int64"
      ]
     },
     "execution_count": 12,
     "metadata": {},
     "output_type": "execute_result"
    }
   ],
   "source": [
    "Ad_df['auction_id'].value_counts()"
   ]
  },
  {
   "cell_type": "code",
   "execution_count": 14,
   "id": "8a709610-ae71-4f64-bb39-bee0d191b5ed",
   "metadata": {},
   "outputs": [
    {
     "data": {
      "text/plain": [
       "True"
      ]
     },
     "execution_count": 14,
     "metadata": {},
     "output_type": "execute_result"
    }
   ],
   "source": [
    "# seems that there are no two devices with the same identification, check it\n",
    "len(Ad_df) == len(Ad_df['auction_id'])"
   ]
  },
  {
   "cell_type": "code",
   "execution_count": 15,
   "id": "a7cc60c4-82b0-41b8-8857-b946e36ba2a5",
   "metadata": {},
   "outputs": [
    {
     "data": {
      "text/plain": [
       "platform_os\n",
       "6    7648\n",
       "5     428\n",
       "7       1\n",
       "Name: count, dtype: int64"
      ]
     },
     "execution_count": 15,
     "metadata": {},
     "output_type": "execute_result"
    }
   ],
   "source": [
    "# observation of platform_os\n",
    "Ad_df['platform_os'].value_counts()"
   ]
  },
  {
   "cell_type": "markdown",
   "id": "0528d2ad-f1e3-49bd-a50a-f0999e16e2e9",
   "metadata": {},
   "source": [
    "Only 3 operating systems. "
   ]
  },
  {
   "cell_type": "code",
   "execution_count": 22,
   "id": "0f75ff74-e102-432e-a0bd-939d35e2f252",
   "metadata": {},
   "outputs": [
    {
     "data": {
      "text/plain": [
       "428"
      ]
     },
     "execution_count": 22,
     "metadata": {},
     "output_type": "execute_result"
    }
   ],
   "source": [
    "len(Ad_df[Ad_df['platform_os']== 5])"
   ]
  },
  {
   "cell_type": "code",
   "execution_count": 23,
   "id": "3e50e5a1-e4f3-4e0a-8085-14a1b73ffbd7",
   "metadata": {},
   "outputs": [
    {
     "data": {
      "text/plain": [
       "array(['Generic Smartphone', 'E5823', 'Samsung SM-A705FN',\n",
       "       'Samsung SM-G960F', 'Samsung SM-G973F', 'iPhone',\n",
       "       'Samsung SM-G935F', 'HTC One', 'LG-$2', 'Samsung SM-A202F',\n",
       "       'XT1032', 'COL-L29', 'Samsung SM-N960U1', 'Samsung SM-A715F',\n",
       "       'Samsung SM-G930F', 'I3312', 'Samsung SM-G950F', 'FIG-LX1',\n",
       "       'Samsung SM-G920F', 'MRD-LX1', 'Samsung SM-N950F', 'Moto $2',\n",
       "       'Samsung SM-G970F', 'Samsung GT-I9505', 'Samsung SM-G981B',\n",
       "       'Pixel 3a', 'Samsung SM-J600FN', 'Samsung SM-A105FN',\n",
       "       'OnePlus ONEPLUS A3003', 'POT-LX1', 'Samsung SM-G975F',\n",
       "       'Samsung SM-J330FN', 'Samsung SM-G770F', 'H3311', 'MAR-LX1A',\n",
       "       'HTC One $2', 'Samsung SM-G965F', 'ELE-L09', 'Samsung SM-J415FN',\n",
       "       'Samsung SM-G900F', 'Lenovo A1010a20', 'CLT-L09', 'HTC Desire $2',\n",
       "       'Samsung SM-G980F', 'Samsung SM-G955F', 'Samsung SM-N960F',\n",
       "       'Nexus 5', 'Samsung SM-J260F', 'HTC U11', 'Samsung SM-A405FN',\n",
       "       'Samsung SM-A600FN', 'ANE-LX1', 'VOG-L09', 'Samsung SM-G986B',\n",
       "       'XiaoMi Redmi Note 4', 'ELE-L29', 'Samsung $2',\n",
       "       'Samsung SM-A320FL', 'OnePlus ONEPLUS A5000', 'Samsung SM-A505FN',\n",
       "       'Nokia undefined$2$3', 'Samsung SM-A750FN', 'Samsung SM-A310F',\n",
       "       'Samsung SM-A520F', 'OnePlus ONEPLUS A5010', 'Samsung SM-N975F',\n",
       "       'Pixel 4', 'LYA-L09', 'Samsung SM-G988B', 'VOG-L29',\n",
       "       'Samsung SM-N976B', '5008Y_EEA', 'CLT-L29', 'PRA-LX1',\n",
       "       'Samsung SM-J320FN', 'Samsung SM-J530F', 'Samsung SM-A530F',\n",
       "       'BKL-L09', 'Pixel 3', 'Samsung SM-A515F', 'Nokia$2$3', 'F8331',\n",
       "       'Samsung SM-A300FU', 'Samsung SM-G390F', 'VFD 710',\n",
       "       'XiaoMi Redmi 6', 'Samsung SM-G901F', 'OnePlus ONEPLUS A6003',\n",
       "       'Samsung SM-A500FU', 'Samsung SM-G900V', 'SNE-LX1', 'STF-L09',\n",
       "       'HTC 10', 'Samsung SM-J510FN', 'Samsung SM-J610FN', 'S8',\n",
       "       'XiaoMi Redmi Note 7', 'Samsung SM-G800F', 'EML-L09',\n",
       "       'Samsung SM-N970F', 'Huawei Browser', 'OnePlus ONEPLUS A6013',\n",
       "       'Samsung GT-I8200N', 'Samsung SM-A920F', 'NEM-L51',\n",
       "       'Samsung SM-G570F', 'Samsung SM-G925F', 'VFD 820', 'Asus I01WD',\n",
       "       'HUAWEI $2', 'OnePlus ONEPLUS A6000', 'Samsung SM-J710F',\n",
       "       'Samsung SM-G928F', 'XiaoMi Redmi 8', 'H3113', 'DUB-LX1',\n",
       "       'Pixel 2', 'Samsung GT-I9195', 'WAS-LX1A', 'F5321',\n",
       "       'XiaoMi MI 8 Pro', 'EVA-L09', 'Samsung SM-J730F', 'LYA-L29',\n",
       "       'VFD 500', 'YAL-L21', 'HTC U12+', 'Samsung SM-J330G',\n",
       "       'XiaoMi MI 8', 'Samsung undefined$2', 'G3311', 'G3121', 'DUA-L22',\n",
       "       'Samsung SM-G950U1', 'Samsung SM-G850F', 'Samsung SM-A107F',\n",
       "       'BBB100-2', 'VFD 610', 'XiaoMi Redmi 6A', '5099Y',\n",
       "       'Samsung SM-F907B', 'Samsung SM-N9500', 'D5503',\n",
       "       'Samsung SM-G977B', 'Lumia 950', 'Samsung GT-P5210', 'COR-L29',\n",
       "       'LDN-L01', 'Samsung SM-J710MN', 'Lenovo A7020a48',\n",
       "       'Samsung SM-G965U1', 'Samsung SM-N910F', 'CUBOT_X18_Plus',\n",
       "       'Samsung SM-A507FN', 'BLA-L09', 'Samsung SM-G900T', 'VTR-L09',\n",
       "       'Samsung SM-J500FN', 'moto e5 play', 'A0001', 'PCT-L29',\n",
       "       'Samsung SM-G925I', 'HTC M10h', 'Vodafone $2', 'Samsung SM-G6100',\n",
       "       'D5803', 'Samsung SM-A505F', 'Samsung SM-G986U1',\n",
       "       'Samsung SM-N9750', 'D6603', 'VFD 700', '6039Y',\n",
       "       'Samsung SM-N920I', 'Samsung SM-G950U', 'XiaoMi Redmi Note 8T',\n",
       "       'Samsung SM-G935U', 'Samsung SM-A105G', 'OnePlus ONE A2003',\n",
       "       'Samsung GT-I9195I', 'C2105', 'ALE-L21', 'Samsung SM-G930L',\n",
       "       'XT1580', 'Samsung SM-G973U', 'XiaoMi Redmi Note 8 Pro',\n",
       "       'Samsung SM-A015M', 'Samsung SM-G388F', 'Samsung SM-N976V',\n",
       "       'VFD 720', 'Samsung SM-G930U', 'EVR-N29', 'XiaoMi Redmi Note 8',\n",
       "       'F3111', 'EML-L29', 'Samsung SM-G610F', 'Samsung SM-A305F',\n",
       "       'Samsung SM-J701F', 'Samsung SM-A510F', 'IMO $2', 'Pixel XL',\n",
       "       'Samsung SM-A415F', 'Samsung SM-A217F', 'Samsung SM-A908B',\n",
       "       'BBF100-1', 'HTC U11 $2', 'E6653', 'Samsung SM-G903F', 'VKY-L09',\n",
       "       'Samsung SM-A207F', 'XiaoMi MI MAX 3', 'F3311', 'Lenovo P2a42',\n",
       "       'Samsung SM-A205G', 'Samsung SM-A605F', 'VF-795', 'VF-895N',\n",
       "       'Samsung SM-A605G', 'D6503', 'Armor_3', 'FRD-L09', 'TA-1033',\n",
       "       'Doro 8030', 'moto e5 plus', 'Samsung SM-J250F',\n",
       "       'Samsung SM-C9000', 'Moto$2', 'Samsung SM-A105F', 'ATU-L11',\n",
       "       'Samsung SM-N770F', 'TA-1020', 'DLI-L22', 'Samsung SM-A805F',\n",
       "       'XiaoMi Redmi Note 6 Pro', 'Samsung SM-G955U', 'Samsung GT-I9300',\n",
       "       'C6903', 'RNE-L21', 'Samsung SM-G361F', 'G3221',\n",
       "       'Samsung SM-G930T', 'Samsung SM-J510GN', 'Samsung SM-A700F',\n",
       "       'CPH1851', 'X13', 'OnePlus ONE E1003', 'Samsung SM-J810F',\n",
       "       'TA-1024', 'OnePlus ONEPLUS A3000', 'XiaoMi Redmi 3S', 'MHA-L09',\n",
       "       'XiaoMi MI 6', 'K7', 'Swift 2 Plus', 'X4_Soul_Infinity_Z',\n",
       "       'Samsung SM-G960U1', 'Wileyfox Swift', 'Samsung SM-J330F',\n",
       "       'PLK-L01', 'Samsung SM-A750GN', 'Samsung SM-G930V',\n",
       "       'XiaoMi Redmi 5 Plus', 'Samsung SM-J610G', 'VCE-L22',\n",
       "       'Samsung SM-G960U', 'Samsung SM-G9730', 'Samsung SM-G955U1',\n",
       "       'XiaoMi Redmi S2', 'Samsung SM-A205F', 'XiaoMi Redmi Note 5'],\n",
       "      dtype=object)"
      ]
     },
     "execution_count": 23,
     "metadata": {},
     "output_type": "execute_result"
    }
   ],
   "source": [
    "Ad_df['device_make'].unique()"
   ]
  },
  {
   "cell_type": "markdown",
   "id": "7af6f2c4-9359-4954-a1e2-ac0a69be37ce",
   "metadata": {},
   "source": [
    "I will check only the models with more than 40 terminals. "
   ]
  },
  {
   "cell_type": "code",
   "execution_count": 33,
   "id": "6eda5643-c903-4bd2-aadb-d7c21cab7c46",
   "metadata": {},
   "outputs": [],
   "source": [
    "reduced_df = Ad_df[Ad_df['device_make'].map(counts) > 39]"
   ]
  },
  {
   "cell_type": "code",
   "execution_count": 34,
   "id": "7dcb1100-b633-44fa-90c0-918c3dbf6304",
   "metadata": {},
   "outputs": [
    {
     "data": {
      "text/plain": [
       "device_make\n",
       "Generic Smartphone     4743\n",
       "iPhone                  433\n",
       "Samsung SM-G960F        203\n",
       "Samsung SM-G973F        154\n",
       "Samsung SM-G950F        148\n",
       "Samsung SM-G930F        100\n",
       "Samsung SM-G975F         97\n",
       "Samsung SM-A202F         88\n",
       "Samsung SM-A405FN        87\n",
       "Samsung SM-J330FN        69\n",
       "Samsung SM-A105FN        66\n",
       "Samsung SM-G965F         66\n",
       "Nokia$2$3                64\n",
       "Samsung SM-G935F         63\n",
       "Nokia undefined$2$3      60\n",
       "Samsung SM-G970F         58\n",
       "Samsung SM-A705FN        56\n",
       "Samsung SM-A505FN        53\n",
       "Samsung SM-A520F         51\n",
       "Samsung SM-G920F         48\n",
       "LG-$2                    43\n",
       "POT-LX1                  40\n",
       "Name: count, dtype: int64"
      ]
     },
     "execution_count": 34,
     "metadata": {},
     "output_type": "execute_result"
    }
   ],
   "source": [
    "reduced_df['device_make'].value_counts()"
   ]
  },
  {
   "cell_type": "code",
   "execution_count": 37,
   "id": "5d2031f8-b557-496d-bc9a-9c6f4f42b008",
   "metadata": {},
   "outputs": [
    {
     "data": {
      "text/plain": [
       "433"
      ]
     },
     "execution_count": 37,
     "metadata": {},
     "output_type": "execute_result"
    }
   ],
   "source": [
    "len(Ad_df[Ad_df['device_make']== 'iPhone'])"
   ]
  },
  {
   "cell_type": "code",
   "execution_count": 38,
   "id": "855b0850-12f5-48ef-8a1a-45da21d23112",
   "metadata": {},
   "outputs": [
    {
     "data": {
      "text/plain": [
       "False"
      ]
     },
     "execution_count": 38,
     "metadata": {},
     "output_type": "execute_result"
    }
   ],
   "source": [
    "len(Ad_df[Ad_df['platform_os']== 5])== len(Ad_df[Ad_df['device_make']== 'iPhone'])"
   ]
  },
  {
   "cell_type": "markdown",
   "id": "910a7283-54a3-4fdf-8bd8-ff2e53f44bd4",
   "metadata": {},
   "source": [
    "So, the number of iPhones and the OS are not the same, which is an inconsistency in the data. "
   ]
  },
  {
   "cell_type": "markdown",
   "id": "cf62bb36-e1f6-4712-814d-5817e05dffc7",
   "metadata": {},
   "source": [
    "## Study \n",
    "\n",
    "Different parts of the study will be included in other notebooks.\n",
    "- 'auction_id' provides no information, except unique identification.\n",
    "- 'platform_os' introduces errors on the data.    "
   ]
  },
  {
   "cell_type": "code",
   "execution_count": 39,
   "id": "03a6ce16-a79d-4d9f-8560-76745b481f67",
   "metadata": {},
   "outputs": [],
   "source": [
    "# I will check if the OS on the iPhones.\n",
    "iPhone_df = Ad_df[Ad_df['device_make']== 'iPhone']"
   ]
  },
  {
   "cell_type": "code",
   "execution_count": 41,
   "id": "b3e7e9b2-ddae-4c5c-a89e-e39c727da993",
   "metadata": {},
   "outputs": [
    {
     "data": {
      "text/html": [
       "<div>\n",
       "<style scoped>\n",
       "    .dataframe tbody tr th:only-of-type {\n",
       "        vertical-align: middle;\n",
       "    }\n",
       "\n",
       "    .dataframe tbody tr th {\n",
       "        vertical-align: top;\n",
       "    }\n",
       "\n",
       "    .dataframe thead th {\n",
       "        text-align: right;\n",
       "    }\n",
       "</style>\n",
       "<table border=\"1\" class=\"dataframe\">\n",
       "  <thead>\n",
       "    <tr style=\"text-align: right;\">\n",
       "      <th></th>\n",
       "      <th>auction_id</th>\n",
       "      <th>experiment</th>\n",
       "      <th>date</th>\n",
       "      <th>hour</th>\n",
       "      <th>device_make</th>\n",
       "      <th>platform_os</th>\n",
       "      <th>browser</th>\n",
       "      <th>yes</th>\n",
       "      <th>no</th>\n",
       "    </tr>\n",
       "  </thead>\n",
       "  <tbody>\n",
       "    <tr>\n",
       "      <th>794</th>\n",
       "      <td>19b0fc3d-a74b-48be-be3a-dd9aa39f5aab</td>\n",
       "      <td>control</td>\n",
       "      <td>2020-07-03</td>\n",
       "      <td>19</td>\n",
       "      <td>iPhone</td>\n",
       "      <td>6</td>\n",
       "      <td>Mobile Safari</td>\n",
       "      <td>0</td>\n",
       "      <td>1</td>\n",
       "    </tr>\n",
       "    <tr>\n",
       "      <th>3407</th>\n",
       "      <td>6dec4a8a-85eb-4252-b86a-31d9dd99dce0</td>\n",
       "      <td>exposed</td>\n",
       "      <td>2020-07-03</td>\n",
       "      <td>6</td>\n",
       "      <td>iPhone</td>\n",
       "      <td>6</td>\n",
       "      <td>Mobile Safari UI/WKWebView</td>\n",
       "      <td>0</td>\n",
       "      <td>0</td>\n",
       "    </tr>\n",
       "    <tr>\n",
       "      <th>3907</th>\n",
       "      <td>7dc79e4c-97d7-411a-bac9-aff78ba6af15</td>\n",
       "      <td>control</td>\n",
       "      <td>2020-07-06</td>\n",
       "      <td>22</td>\n",
       "      <td>iPhone</td>\n",
       "      <td>6</td>\n",
       "      <td>Mobile Safari</td>\n",
       "      <td>0</td>\n",
       "      <td>0</td>\n",
       "    </tr>\n",
       "    <tr>\n",
       "      <th>5400</th>\n",
       "      <td>aac6fd88-bc1b-40f2-b483-cc1d1479f6c1</td>\n",
       "      <td>control</td>\n",
       "      <td>2020-07-09</td>\n",
       "      <td>6</td>\n",
       "      <td>iPhone</td>\n",
       "      <td>6</td>\n",
       "      <td>Mobile Safari</td>\n",
       "      <td>0</td>\n",
       "      <td>0</td>\n",
       "    </tr>\n",
       "    <tr>\n",
       "      <th>7628</th>\n",
       "      <td>f17a54b0-8a9a-4a02-b816-085301c8ad98</td>\n",
       "      <td>exposed</td>\n",
       "      <td>2020-07-07</td>\n",
       "      <td>16</td>\n",
       "      <td>iPhone</td>\n",
       "      <td>6</td>\n",
       "      <td>Mobile Safari UI/WKWebView</td>\n",
       "      <td>0</td>\n",
       "      <td>0</td>\n",
       "    </tr>\n",
       "  </tbody>\n",
       "</table>\n",
       "</div>"
      ],
      "text/plain": [
       "                                auction_id experiment        date  hour  \\\n",
       "794   19b0fc3d-a74b-48be-be3a-dd9aa39f5aab    control  2020-07-03    19   \n",
       "3407  6dec4a8a-85eb-4252-b86a-31d9dd99dce0    exposed  2020-07-03     6   \n",
       "3907  7dc79e4c-97d7-411a-bac9-aff78ba6af15    control  2020-07-06    22   \n",
       "5400  aac6fd88-bc1b-40f2-b483-cc1d1479f6c1    control  2020-07-09     6   \n",
       "7628  f17a54b0-8a9a-4a02-b816-085301c8ad98    exposed  2020-07-07    16   \n",
       "\n",
       "     device_make  platform_os                     browser  yes  no  \n",
       "794       iPhone            6               Mobile Safari    0   1  \n",
       "3407      iPhone            6  Mobile Safari UI/WKWebView    0   0  \n",
       "3907      iPhone            6               Mobile Safari    0   0  \n",
       "5400      iPhone            6               Mobile Safari    0   0  \n",
       "7628      iPhone            6  Mobile Safari UI/WKWebView    0   0  "
      ]
     },
     "execution_count": 41,
     "metadata": {},
     "output_type": "execute_result"
    }
   ],
   "source": [
    "# if some have a diferent OS\n",
    "iPhone_df[iPhone_df['platform_os']!= 5]"
   ]
  },
  {
   "cell_type": "code",
   "execution_count": 42,
   "id": "8cb0494c-ba2c-42a2-ab5a-e024955b1750",
   "metadata": {},
   "outputs": [
    {
     "data": {
      "text/plain": [
       "-5"
      ]
     },
     "execution_count": 42,
     "metadata": {},
     "output_type": "execute_result"
    }
   ],
   "source": [
    "len(Ad_df[Ad_df['platform_os']== 5])- len(Ad_df[Ad_df['device_make']== 'iPhone'])"
   ]
  },
  {
   "cell_type": "markdown",
   "id": "586213ac-cefb-486a-a148-4be73a7aaccb",
   "metadata": {},
   "source": [
    "There is a system to introduce OS Android to an iPhone, that solves the inconsistency. "
   ]
  },
  {
   "cell_type": "code",
   "execution_count": null,
   "id": "91bb0e67-c470-48e0-99ee-c2b077d817ed",
   "metadata": {},
   "outputs": [],
   "source": []
  }
 ],
 "metadata": {
  "kernelspec": {
   "display_name": "Python 3 (ipykernel)",
   "language": "python",
   "name": "python3"
  },
  "language_info": {
   "codemirror_mode": {
    "name": "ipython",
    "version": 3
   },
   "file_extension": ".py",
   "mimetype": "text/x-python",
   "name": "python",
   "nbconvert_exporter": "python",
   "pygments_lexer": "ipython3",
   "version": "3.13.1"
  }
 },
 "nbformat": 4,
 "nbformat_minor": 5
}
